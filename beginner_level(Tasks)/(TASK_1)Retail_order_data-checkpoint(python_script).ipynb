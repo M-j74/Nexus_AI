{
 "cells": [
  {
   "cell_type": "code",
   "execution_count": 1,
   "id": "afe668ef-6f96-4dde-a69c-03f65998ae6b",
   "metadata": {},
   "outputs": [],
   "source": [
    "import pandas as pd \n",
    "import numpy as np\n",
    "import seaborn as sns\n",
    "import matplotlib.pyplot as plt\n"
   ]
  },
  {
   "cell_type": "code",
   "execution_count": 4,
   "id": "adf2c71b-952a-4fc8-a703-fb89cc100771",
   "metadata": {},
   "outputs": [],
   "source": [
    "df = pd.read_csv('C:\\\\Users\\\\micro\\\\Downloads\\\\Compressed\\\\archive\\\\OnlineRetail.csv', encoding='ISO-8859-1')"
   ]
  },
  {
   "cell_type": "code",
   "execution_count": 5,
   "id": "fda7d842-4f7f-4054-9975-ba545bc67b63",
   "metadata": {},
   "outputs": [
    {
     "data": {
      "text/html": [
       "<div>\n",
       "<style scoped>\n",
       "    .dataframe tbody tr th:only-of-type {\n",
       "        vertical-align: middle;\n",
       "    }\n",
       "\n",
       "    .dataframe tbody tr th {\n",
       "        vertical-align: top;\n",
       "    }\n",
       "\n",
       "    .dataframe thead th {\n",
       "        text-align: right;\n",
       "    }\n",
       "</style>\n",
       "<table border=\"1\" class=\"dataframe\">\n",
       "  <thead>\n",
       "    <tr style=\"text-align: right;\">\n",
       "      <th></th>\n",
       "      <th>InvoiceNo</th>\n",
       "      <th>StockCode</th>\n",
       "      <th>Description</th>\n",
       "      <th>Quantity</th>\n",
       "      <th>InvoiceDate</th>\n",
       "      <th>UnitPrice</th>\n",
       "      <th>CustomerID</th>\n",
       "      <th>Country</th>\n",
       "    </tr>\n",
       "  </thead>\n",
       "  <tbody>\n",
       "    <tr>\n",
       "      <th>0</th>\n",
       "      <td>536365</td>\n",
       "      <td>85123A</td>\n",
       "      <td>WHITE HANGING HEART T-LIGHT HOLDER</td>\n",
       "      <td>6</td>\n",
       "      <td>12/1/2010 8:26</td>\n",
       "      <td>2.55</td>\n",
       "      <td>17850.0</td>\n",
       "      <td>United Kingdom</td>\n",
       "    </tr>\n",
       "    <tr>\n",
       "      <th>1</th>\n",
       "      <td>536365</td>\n",
       "      <td>71053</td>\n",
       "      <td>WHITE METAL LANTERN</td>\n",
       "      <td>6</td>\n",
       "      <td>12/1/2010 8:26</td>\n",
       "      <td>3.39</td>\n",
       "      <td>17850.0</td>\n",
       "      <td>United Kingdom</td>\n",
       "    </tr>\n",
       "  </tbody>\n",
       "</table>\n",
       "</div>"
      ],
      "text/plain": [
       "  InvoiceNo StockCode                         Description  Quantity  \\\n",
       "0    536365    85123A  WHITE HANGING HEART T-LIGHT HOLDER         6   \n",
       "1    536365     71053                 WHITE METAL LANTERN         6   \n",
       "\n",
       "      InvoiceDate  UnitPrice  CustomerID         Country  \n",
       "0  12/1/2010 8:26       2.55     17850.0  United Kingdom  \n",
       "1  12/1/2010 8:26       3.39     17850.0  United Kingdom  "
      ]
     },
     "execution_count": 5,
     "metadata": {},
     "output_type": "execute_result"
    }
   ],
   "source": [
    "df.head(2)"
   ]
  },
  {
   "cell_type": "markdown",
   "id": "f1573a68-c3d0-478b-83f8-220631573af0",
   "metadata": {},
   "source": [
    "# check if colunm has null"
   ]
  },
  {
   "cell_type": "code",
   "execution_count": 6,
   "id": "73a076e3-4492-4886-9340-16e8834d72e5",
   "metadata": {},
   "outputs": [
    {
     "data": {
      "text/plain": [
       "InvoiceNo           0\n",
       "StockCode           0\n",
       "Description      1454\n",
       "Quantity            0\n",
       "InvoiceDate         0\n",
       "UnitPrice           0\n",
       "CustomerID     135080\n",
       "Country             0\n",
       "dtype: int64"
      ]
     },
     "execution_count": 6,
     "metadata": {},
     "output_type": "execute_result"
    }
   ],
   "source": [
    "df.isnull().sum()"
   ]
  },
  {
   "cell_type": "code",
   "execution_count": null,
   "id": "d1d9d0b9-5171-450b-8928-9085474e63ee",
   "metadata": {},
   "outputs": [],
   "source": [
    "#drop the nulls otherwise it deppend if we want to fill it with something or just drop nulls"
   ]
  },
  {
   "cell_type": "code",
   "execution_count": 15,
   "id": "38042790-f3d9-41ff-bc4f-bdcc22dd3de0",
   "metadata": {},
   "outputs": [],
   "source": [
    "df.dropna(inplace = True)"
   ]
  },
  {
   "cell_type": "markdown",
   "id": "71aa31df-ad5a-42ea-88a7-f82e58f01ec9",
   "metadata": {},
   "source": [
    "#change the date datatype from object to datetime"
   ]
  },
  {
   "cell_type": "code",
   "execution_count": 10,
   "id": "c5b4e23d-4fc0-4af4-89a5-da1bfcc6ea36",
   "metadata": {},
   "outputs": [],
   "source": [
    "df['InvoiceDate'] =pd.to_datetime(df['InvoiceDate'])"
   ]
  },
  {
   "cell_type": "code",
   "execution_count": 17,
   "id": "17ee8b7a-da98-4fcd-a257-5753cc17a1fe",
   "metadata": {},
   "outputs": [
    {
     "data": {
      "text/html": [
       "<div>\n",
       "<style scoped>\n",
       "    .dataframe tbody tr th:only-of-type {\n",
       "        vertical-align: middle;\n",
       "    }\n",
       "\n",
       "    .dataframe tbody tr th {\n",
       "        vertical-align: top;\n",
       "    }\n",
       "\n",
       "    .dataframe thead th {\n",
       "        text-align: right;\n",
       "    }\n",
       "</style>\n",
       "<table border=\"1\" class=\"dataframe\">\n",
       "  <thead>\n",
       "    <tr style=\"text-align: right;\">\n",
       "      <th></th>\n",
       "      <th>InvoiceNo</th>\n",
       "      <th>StockCode</th>\n",
       "      <th>Description</th>\n",
       "      <th>Quantity</th>\n",
       "      <th>InvoiceDate</th>\n",
       "      <th>UnitPrice</th>\n",
       "      <th>CustomerID</th>\n",
       "      <th>Country</th>\n",
       "    </tr>\n",
       "  </thead>\n",
       "  <tbody>\n",
       "    <tr>\n",
       "      <th>0</th>\n",
       "      <td>536365</td>\n",
       "      <td>85123A</td>\n",
       "      <td>WHITE HANGING HEART T-LIGHT HOLDER</td>\n",
       "      <td>6</td>\n",
       "      <td>2010-12-01 08:26:00</td>\n",
       "      <td>2.55</td>\n",
       "      <td>17850.0</td>\n",
       "      <td>United Kingdom</td>\n",
       "    </tr>\n",
       "    <tr>\n",
       "      <th>1</th>\n",
       "      <td>536365</td>\n",
       "      <td>71053</td>\n",
       "      <td>WHITE METAL LANTERN</td>\n",
       "      <td>6</td>\n",
       "      <td>2010-12-01 08:26:00</td>\n",
       "      <td>3.39</td>\n",
       "      <td>17850.0</td>\n",
       "      <td>United Kingdom</td>\n",
       "    </tr>\n",
       "  </tbody>\n",
       "</table>\n",
       "</div>"
      ],
      "text/plain": [
       "  InvoiceNo StockCode                         Description  Quantity  \\\n",
       "0    536365    85123A  WHITE HANGING HEART T-LIGHT HOLDER         6   \n",
       "1    536365     71053                 WHITE METAL LANTERN         6   \n",
       "\n",
       "          InvoiceDate  UnitPrice  CustomerID         Country  \n",
       "0 2010-12-01 08:26:00       2.55     17850.0  United Kingdom  \n",
       "1 2010-12-01 08:26:00       3.39     17850.0  United Kingdom  "
      ]
     },
     "execution_count": 17,
     "metadata": {},
     "output_type": "execute_result"
    }
   ],
   "source": [
    "df.head(2)"
   ]
  },
  {
   "cell_type": "code",
   "execution_count": null,
   "id": "040e6cda-3d2a-4823-b714-fd98ac43b866",
   "metadata": {},
   "outputs": [],
   "source": [
    "#check for duplictes i have many dupicates but instead of drop it we can just get latest order by customer \n",
    "#drop it is not a best solution bcz maybe a customer make many order and we need to keep it "
   ]
  },
  {
   "cell_type": "code",
   "execution_count": 24,
   "id": "e4cac74e-b314-4752-9b42-702610e817d4",
   "metadata": {},
   "outputs": [
    {
     "data": {
      "text/plain": [
       "np.int64(5225)"
      ]
     },
     "execution_count": 24,
     "metadata": {},
     "output_type": "execute_result"
    }
   ],
   "source": [
    "df.duplicated().sum()"
   ]
  },
  {
   "cell_type": "code",
   "execution_count": null,
   "id": "f9cce9b5-e6f5-498f-afa2-64f860c07f2c",
   "metadata": {},
   "outputs": [],
   "source": [
    "#create connection with database for better analysis"
   ]
  },
  {
   "cell_type": "code",
   "execution_count": 25,
   "id": "1765c879-2ec5-4342-b14a-807c717e97b4",
   "metadata": {},
   "outputs": [],
   "source": [
    "from sqlalchemy import create_engine\n",
    "import urllib\n",
    "\n",
    "connection_string = urllib.parse.quote_plus(\n",
    "    \"DRIVER={ODBC Driver 17 for SQL Server};\"\n",
    "    \"SERVER=HP-ELITEBOOK\\\\SQLEXPRESS;\"\n",
    "    \"DATABASE=practice;\"\n",
    "    \"Trusted_Connection=yes;\"\n",
    ")\n",
    "\n",
    "engine = create_engine(\"mssql+pyodbc:///?odbc_connect=%s\" % connection_string)"
   ]
  },
  {
   "cell_type": "code",
   "execution_count": 26,
   "id": "479d50dc-1c4b-4842-992e-ca2007cc64cb",
   "metadata": {},
   "outputs": [],
   "source": [
    "conn= engine.connect()\n",
    "conn\n",
    "df.to_sql('retail_data',con =conn,index= False ,if_exists='replace')\n",
    "q = lambda sql: pd.read_sql(sql, engine)#create a function to so we dont need to run long query\n"
   ]
  },
  {
   "cell_type": "code",
   "execution_count": null,
   "id": "27f1dbee-8eb9-487d-9285-c09a2060207a",
   "metadata": {},
   "outputs": [],
   "source": [
    "#only get latest order to remove duplicates"
   ]
  },
  {
   "cell_type": "code",
   "execution_count": 162,
   "id": "cb5c51f5-6844-4e78-9299-14b7e7566c9f",
   "metadata": {},
   "outputs": [
    {
     "data": {
      "text/html": [
       "<div>\n",
       "<style scoped>\n",
       "    .dataframe tbody tr th:only-of-type {\n",
       "        vertical-align: middle;\n",
       "    }\n",
       "\n",
       "    .dataframe tbody tr th {\n",
       "        vertical-align: top;\n",
       "    }\n",
       "\n",
       "    .dataframe thead th {\n",
       "        text-align: right;\n",
       "    }\n",
       "</style>\n",
       "<table border=\"1\" class=\"dataframe\">\n",
       "  <thead>\n",
       "    <tr style=\"text-align: right;\">\n",
       "      <th></th>\n",
       "      <th>invoiceNo</th>\n",
       "      <th>stockCode</th>\n",
       "      <th>description</th>\n",
       "      <th>quantity</th>\n",
       "      <th>invoiceDate</th>\n",
       "      <th>unitPrice</th>\n",
       "      <th>Total_price</th>\n",
       "      <th>customerId</th>\n",
       "      <th>country</th>\n",
       "      <th>ranking</th>\n",
       "    </tr>\n",
       "  </thead>\n",
       "  <tbody>\n",
       "    <tr>\n",
       "      <th>0</th>\n",
       "      <td>C541433</td>\n",
       "      <td>23166</td>\n",
       "      <td>MEDIUM CERAMIC TOP STORAGE JAR</td>\n",
       "      <td>74215</td>\n",
       "      <td>2011-01-18 10:17:00</td>\n",
       "      <td>1.04</td>\n",
       "      <td>77183.6</td>\n",
       "      <td>12346.0</td>\n",
       "      <td>United Kingdom</td>\n",
       "      <td>1</td>\n",
       "    </tr>\n",
       "    <tr>\n",
       "      <th>1</th>\n",
       "      <td>573511</td>\n",
       "      <td>84558A</td>\n",
       "      <td>3D DOG PICTURE PLAYING CARDS</td>\n",
       "      <td>36</td>\n",
       "      <td>2011-10-31 12:25:00</td>\n",
       "      <td>2.95</td>\n",
       "      <td>106.2</td>\n",
       "      <td>12347.0</td>\n",
       "      <td>Iceland</td>\n",
       "      <td>1</td>\n",
       "    </tr>\n",
       "  </tbody>\n",
       "</table>\n",
       "</div>"
      ],
      "text/plain": [
       "  invoiceNo stockCode                     description  quantity  \\\n",
       "0   C541433     23166  MEDIUM CERAMIC TOP STORAGE JAR     74215   \n",
       "1    573511    84558A    3D DOG PICTURE PLAYING CARDS        36   \n",
       "\n",
       "          invoiceDate  unitPrice  Total_price  customerId         country  \\\n",
       "0 2011-01-18 10:17:00       1.04      77183.6     12346.0  United Kingdom   \n",
       "1 2011-10-31 12:25:00       2.95        106.2     12347.0         Iceland   \n",
       "\n",
       "   ranking  \n",
       "0        1  \n",
       "1        1  "
      ]
     },
     "execution_count": 162,
     "metadata": {},
     "output_type": "execute_result"
    }
   ],
   "source": [
    "df1=q('''\n",
    "select * from(\n",
    "select \n",
    "[invoiceNo],\n",
    "[stockCode],\n",
    "[description],\n",
    "ABS([quantity]) as [quantity],\n",
    "[invoiceDate],\n",
    "[unitPrice],\n",
    "abs([quantity])*[unitprice] as [Total_price],\n",
    "[customerId],\n",
    "[country],\n",
    "row_number() over(partition by [customerid],[Description] order by [invoicedate] desc) as ranking\n",
    "from retail_data)t where [ranking] = 1\n",
    "''')\n",
    "df1.head(2)"
   ]
  },
  {
   "cell_type": "markdown",
   "id": "abcecbfa-d2b8-4785-b986-921c3b886a93",
   "metadata": {},
   "source": [
    "#some descriptive statistics "
   ]
  },
  {
   "cell_type": "code",
   "execution_count": 163,
   "id": "89ce6661-368e-4fa2-964c-cf9455290080",
   "metadata": {},
   "outputs": [
    {
     "data": {
      "text/html": [
       "<div>\n",
       "<style scoped>\n",
       "    .dataframe tbody tr th:only-of-type {\n",
       "        vertical-align: middle;\n",
       "    }\n",
       "\n",
       "    .dataframe tbody tr th {\n",
       "        vertical-align: top;\n",
       "    }\n",
       "\n",
       "    .dataframe thead th {\n",
       "        text-align: right;\n",
       "    }\n",
       "</style>\n",
       "<table border=\"1\" class=\"dataframe\">\n",
       "  <thead>\n",
       "    <tr style=\"text-align: right;\">\n",
       "      <th></th>\n",
       "      <th>quantity</th>\n",
       "      <th>unitPrice</th>\n",
       "      <th>Total_price</th>\n",
       "    </tr>\n",
       "  </thead>\n",
       "  <tbody>\n",
       "    <tr>\n",
       "      <th>count</th>\n",
       "      <td>269081.000000</td>\n",
       "      <td>269081.000000</td>\n",
       "      <td>269081.000000</td>\n",
       "    </tr>\n",
       "    <tr>\n",
       "      <th>mean</th>\n",
       "      <td>12.101884</td>\n",
       "      <td>3.259810</td>\n",
       "      <td>19.918260</td>\n",
       "    </tr>\n",
       "    <tr>\n",
       "      <th>std</th>\n",
       "      <td>216.942831</td>\n",
       "      <td>78.721736</td>\n",
       "      <td>370.156905</td>\n",
       "    </tr>\n",
       "    <tr>\n",
       "      <th>min</th>\n",
       "      <td>1.000000</td>\n",
       "      <td>0.000000</td>\n",
       "      <td>0.000000</td>\n",
       "    </tr>\n",
       "    <tr>\n",
       "      <th>25%</th>\n",
       "      <td>2.000000</td>\n",
       "      <td>1.060000</td>\n",
       "      <td>4.950000</td>\n",
       "    </tr>\n",
       "    <tr>\n",
       "      <th>50%</th>\n",
       "      <td>6.000000</td>\n",
       "      <td>1.690000</td>\n",
       "      <td>11.700000</td>\n",
       "    </tr>\n",
       "    <tr>\n",
       "      <th>75%</th>\n",
       "      <td>12.000000</td>\n",
       "      <td>3.750000</td>\n",
       "      <td>17.850000</td>\n",
       "    </tr>\n",
       "    <tr>\n",
       "      <th>max</th>\n",
       "      <td>80995.000000</td>\n",
       "      <td>38970.000000</td>\n",
       "      <td>168469.600000</td>\n",
       "    </tr>\n",
       "  </tbody>\n",
       "</table>\n",
       "</div>"
      ],
      "text/plain": [
       "            quantity      unitPrice    Total_price\n",
       "count  269081.000000  269081.000000  269081.000000\n",
       "mean       12.101884       3.259810      19.918260\n",
       "std       216.942831      78.721736     370.156905\n",
       "min         1.000000       0.000000       0.000000\n",
       "25%         2.000000       1.060000       4.950000\n",
       "50%         6.000000       1.690000      11.700000\n",
       "75%        12.000000       3.750000      17.850000\n",
       "max     80995.000000   38970.000000  168469.600000"
      ]
     },
     "execution_count": 163,
     "metadata": {},
     "output_type": "execute_result"
    }
   ],
   "source": [
    "df1[['quantity','unitPrice','Total_price']].describe()"
   ]
  },
  {
   "cell_type": "code",
   "execution_count": 62,
   "id": "9f2d03a8-f8db-4720-ac4c-b323441955b5",
   "metadata": {},
   "outputs": [],
   "source": [
    "#total price or total revenue"
   ]
  },
  {
   "cell_type": "code",
   "execution_count": 164,
   "id": "c0d5b6ff-8b62-48c4-888c-c4e7fcd2f620",
   "metadata": {},
   "outputs": [
    {
     "data": {
      "text/plain": [
       "np.float64(5359625.443)"
      ]
     },
     "execution_count": 164,
     "metadata": {},
     "output_type": "execute_result"
    }
   ],
   "source": [
    "df1['Total_price'].sum()"
   ]
  },
  {
   "cell_type": "code",
   "execution_count": null,
   "id": "388d77ba-4c55-442e-88de-01e665dce6f8",
   "metadata": {},
   "outputs": [],
   "source": [
    "#expected average by total_revenue"
   ]
  },
  {
   "cell_type": "code",
   "execution_count": 165,
   "id": "7d89ea80-5a2c-4c7c-8ca1-6bf9d6c87d65",
   "metadata": {},
   "outputs": [
    {
     "data": {
      "text/plain": [
       "np.float64(19.9182604606048)"
      ]
     },
     "execution_count": 165,
     "metadata": {},
     "output_type": "execute_result"
    }
   ],
   "source": [
    "df1['Total_price'].mean()"
   ]
  },
  {
   "cell_type": "code",
   "execution_count": 166,
   "id": "ad272867-fe1d-48fa-a23d-ee36ea71202e",
   "metadata": {},
   "outputs": [
    {
     "data": {
      "image/png": "[encoded data removed]",
      "text/plain": [
       "<Figure size 1000x600 with 1 Axes>"
      ]
     },
     "metadata": {},
     "output_type": "display_data"
    }
   ],
   "source": [
    "data1 = df1.groupby('description')['Total_price'].sum().reset_index(name='Total_price')\n",
    "\n",
    "plt.figure(figsize=(10, 6))\n",
    "ax = sns.histplot(x='Total_price', data=data1, bins=30)\n",
    "\n",
    "for patch in ax.patches:\n",
    "    height = patch.get_height()\n",
    "    if height > 0:\n",
    "        ax.text(\n",
    "            patch.get_x() + patch.get_width() / 2,\n",
    "            height,\n",
    "            f'{int(height)}',\n",
    "            ha='center',\n",
    "            va='bottom'\n",
    "        )\n",
    "\n",
    "plt.title('Distribution of Total Price by Product')\n",
    "plt.tight_layout()\n",
    "plt.show()"
   ]
  },
  {
   "cell_type": "code",
   "execution_count": null,
   "id": "ec668d78-d9a2-4794-a3dc-fd4856d10dfe",
   "metadata": {},
   "outputs": [],
   "source": [
    "#show higest purchase products"
   ]
  },
  {
   "cell_type": "code",
   "execution_count": 167,
   "id": "c344605f-5785-4a21-aa0d-2e6b28572f5f",
   "metadata": {},
   "outputs": [
    {
     "name": "stderr",
     "output_type": "stream",
     "text": [
      "C:\\Users\\micro\\AppData\\Local\\Temp\\ipykernel_15228\\2886701307.py:10: FutureWarning: \n",
      "\n",
      "Passing `palette` without assigning `hue` is deprecated and will be removed in v0.14.0. Assign the `x` variable to `hue` and set `legend=False` for the same effect.\n",
      "\n",
      "  ax = sns.barplot(x='description', y='Total_price', data=group_data, palette='Set2', legend=False)\n"
     ]
    },
    {
     "data": {
      "image/png": "[encoded data removed]",
      "text/plain": [
       "<Figure size 1000x600 with 1 Axes>"
      ]
     },
     "metadata": {},
     "output_type": "display_data"
    }
   ],
   "source": [
    "group_data = (\n",
    "    df1.groupby('description')['Total_price']\n",
    "    .sum()\n",
    "    .nlargest(10)\n",
    "    .sort_values(ascending=False)\n",
    "    .reset_index()\n",
    ")\n",
    "\n",
    "plt.figure(figsize=(10, 6))\n",
    "ax = sns.barplot(x='description', y='Total_price', data=group_data, palette='Set2', legend=False)\n",
    "\n",
    "for i in ax.containers:\n",
    "    ax.bar_label(i, fmt='%.1f')\n",
    "\n",
    "plt.xticks(rotation=60)\n",
    "plt.title('Total Price by Product')\n",
    "plt.show()"
   ]
  },
  {
   "cell_type": "code",
   "execution_count": 168,
   "id": "0d798ccd-cfa2-4454-a290-93737979ca71",
   "metadata": {},
   "outputs": [
    {
     "data": {
      "text/html": [
       "<div>\n",
       "<style scoped>\n",
       "    .dataframe tbody tr th:only-of-type {\n",
       "        vertical-align: middle;\n",
       "    }\n",
       "\n",
       "    .dataframe tbody tr th {\n",
       "        vertical-align: top;\n",
       "    }\n",
       "\n",
       "    .dataframe thead th {\n",
       "        text-align: right;\n",
       "    }\n",
       "</style>\n",
       "<table border=\"1\" class=\"dataframe\">\n",
       "  <thead>\n",
       "    <tr style=\"text-align: right;\">\n",
       "      <th></th>\n",
       "      <th>invoiceDate</th>\n",
       "      <th>Total_price</th>\n",
       "    </tr>\n",
       "  </thead>\n",
       "  <tbody>\n",
       "    <tr>\n",
       "      <th>0</th>\n",
       "      <td>2010-12-01 08:34:00</td>\n",
       "      <td>140.33</td>\n",
       "    </tr>\n",
       "    <tr>\n",
       "      <th>1</th>\n",
       "      <td>2010-12-01 08:45:00</td>\n",
       "      <td>313.70</td>\n",
       "    </tr>\n",
       "    <tr>\n",
       "      <th>2</th>\n",
       "      <td>2010-12-01 09:32:00</td>\n",
       "      <td>165.60</td>\n",
       "    </tr>\n",
       "    <tr>\n",
       "      <th>3</th>\n",
       "      <td>2010-12-01 09:37:00</td>\n",
       "      <td>198.78</td>\n",
       "    </tr>\n",
       "    <tr>\n",
       "      <th>4</th>\n",
       "      <td>2010-12-01 09:41:00</td>\n",
       "      <td>31.65</td>\n",
       "    </tr>\n",
       "    <tr>\n",
       "      <th>...</th>\n",
       "      <td>...</td>\n",
       "      <td>...</td>\n",
       "    </tr>\n",
       "    <tr>\n",
       "      <th>18214</th>\n",
       "      <td>2011-12-09 12:23:00</td>\n",
       "      <td>58.00</td>\n",
       "    </tr>\n",
       "    <tr>\n",
       "      <th>18215</th>\n",
       "      <td>2011-12-09 12:25:00</td>\n",
       "      <td>140.64</td>\n",
       "    </tr>\n",
       "    <tr>\n",
       "      <th>18216</th>\n",
       "      <td>2011-12-09 12:31:00</td>\n",
       "      <td>329.05</td>\n",
       "    </tr>\n",
       "    <tr>\n",
       "      <th>18217</th>\n",
       "      <td>2011-12-09 12:49:00</td>\n",
       "      <td>339.20</td>\n",
       "    </tr>\n",
       "    <tr>\n",
       "      <th>18218</th>\n",
       "      <td>2011-12-09 12:50:00</td>\n",
       "      <td>249.45</td>\n",
       "    </tr>\n",
       "  </tbody>\n",
       "</table>\n",
       "<p>18219 rows × 2 columns</p>\n",
       "</div>"
      ],
      "text/plain": [
       "              invoiceDate  Total_price\n",
       "0     2010-12-01 08:34:00       140.33\n",
       "1     2010-12-01 08:45:00       313.70\n",
       "2     2010-12-01 09:32:00       165.60\n",
       "3     2010-12-01 09:37:00       198.78\n",
       "4     2010-12-01 09:41:00        31.65\n",
       "...                   ...          ...\n",
       "18214 2011-12-09 12:23:00        58.00\n",
       "18215 2011-12-09 12:25:00       140.64\n",
       "18216 2011-12-09 12:31:00       329.05\n",
       "18217 2011-12-09 12:49:00       339.20\n",
       "18218 2011-12-09 12:50:00       249.45\n",
       "\n",
       "[18219 rows x 2 columns]"
      ]
     },
     "execution_count": 168,
     "metadata": {},
     "output_type": "execute_result"
    }
   ],
   "source": [
    "df_daily = df1.groupby('invoiceDate')['Total_price'].sum().reset_index()\n",
    "df_daily"
   ]
  },
  {
   "cell_type": "code",
   "execution_count": null,
   "id": "2c03487a-f942-4956-8ee8-53064d51d2dc",
   "metadata": {},
   "outputs": [],
   "source": [
    "#line chart that show price over time"
   ]
  },
  {
   "cell_type": "code",
   "execution_count": 169,
   "id": "343dd2f8-b69d-4775-9a29-cf90745ea59e",
   "metadata": {},
   "outputs": [
    {
     "data": {
      "image/png": "[encoded data removed]",
      "text/plain": [
       "<Figure size 1000x500 with 1 Axes>"
      ]
     },
     "metadata": {},
     "output_type": "display_data"
    }
   ],
   "source": [
    "\n",
    "\n",
    "plt.figure(figsize=(10, 5))\n",
    "plt.plot(df_daily['invoiceDate'], df_daily['Total_price'], marker='o', linestyle='-')\n",
    "plt.title('Total Price Over Time')\n",
    "plt.xlabel('Date')\n",
    "plt.ylabel('Total Price')\n",
    "plt.xticks(rotation=45)\n",
    "plt.tight_layout()\n",
    "plt.show()"
   ]
  },
  {
   "cell_type": "markdown",
   "id": "ba185c9c-8bbd-4a44-9780-cf658c40cb34",
   "metadata": {},
   "source": [
    "#create new table for clean data"
   ]
  },
  {
   "cell_type": "code",
   "execution_count": null,
   "id": "02faefd7-70b2-41b1-8951-fd0bdf38571b",
   "metadata": {},
   "outputs": [],
   "source": [
    "from sqlalchemy import text\n",
    "\n",
    "with engine.connect() as conn:\n",
    "    conn.execute(text('''\n",
    "        CREATE TABLE retail_order_summery (\n",
    "            [invoiceNO] NVARCHAR(50),\n",
    "            [stockCode] NVARCHAR(50),\n",
    "            [description] NVARCHAR(100),\n",
    "            [quantity] INT,\n",
    "            [invoiceDate] DATETIME,\n",
    "            [unit_price] FLOAT,\n",
    "            [total_sale] FLOAT,\n",
    "            [ranking] INT\n",
    "        )\n",
    "    '''))"
   ]
  },
  {
   "cell_type": "code",
   "execution_count": null,
   "id": "d2e76e24-7dc5-442e-819f-9251bf7ae024",
   "metadata": {},
   "outputs": [],
   "source": [
    "#insert clean data into new table"
   ]
  },
  {
   "cell_type": "code",
   "execution_count": 171,
   "id": "1bd26d45-a43c-4c0e-997c-404f9a694525",
   "metadata": {},
   "outputs": [
    {
     "data": {
      "text/plain": [
       "98"
      ]
     },
     "execution_count": 171,
     "metadata": {},
     "output_type": "execute_result"
    }
   ],
   "source": [
    "df2 =df1.to_sql(name='retail_order_summery',con= engine, \n",
    "           if_exists='replace',  # repend to existing table\n",
    "         index=False  )\n",
    "df2"
   ]
  },
  {
   "cell_type": "code",
   "execution_count": null,
   "id": "7024e2cd-61b3-4321-800c-8869f207367f",
   "metadata": {},
   "outputs": [],
   "source": [
    "#moving average"
   ]
  },
  {
   "cell_type": "code",
   "execution_count": 172,
   "id": "bd2cde12-fb46-4236-a694-195ecd433922",
   "metadata": {},
   "outputs": [
    {
     "data": {
      "text/html": [
       "<div>\n",
       "<style scoped>\n",
       "    .dataframe tbody tr th:only-of-type {\n",
       "        vertical-align: middle;\n",
       "    }\n",
       "\n",
       "    .dataframe tbody tr th {\n",
       "        vertical-align: top;\n",
       "    }\n",
       "\n",
       "    .dataframe thead th {\n",
       "        text-align: right;\n",
       "    }\n",
       "</style>\n",
       "<table border=\"1\" class=\"dataframe\">\n",
       "  <thead>\n",
       "    <tr style=\"text-align: right;\">\n",
       "      <th></th>\n",
       "      <th>Total_price</th>\n",
       "      <th></th>\n",
       "    </tr>\n",
       "  </thead>\n",
       "  <tbody>\n",
       "    <tr>\n",
       "      <th>0</th>\n",
       "      <td>77183.60</td>\n",
       "      <td>77183.60</td>\n",
       "    </tr>\n",
       "    <tr>\n",
       "      <th>1</th>\n",
       "      <td>17.40</td>\n",
       "      <td>17.40</td>\n",
       "    </tr>\n",
       "    <tr>\n",
       "      <th>2</th>\n",
       "      <td>55.80</td>\n",
       "      <td>36.60</td>\n",
       "    </tr>\n",
       "    <tr>\n",
       "      <th>3</th>\n",
       "      <td>37.50</td>\n",
       "      <td>36.90</td>\n",
       "    </tr>\n",
       "    <tr>\n",
       "      <th>4</th>\n",
       "      <td>22.50</td>\n",
       "      <td>38.60</td>\n",
       "    </tr>\n",
       "    <tr>\n",
       "      <th>5</th>\n",
       "      <td>15.00</td>\n",
       "      <td>25.00</td>\n",
       "    </tr>\n",
       "    <tr>\n",
       "      <th>6</th>\n",
       "      <td>32.94</td>\n",
       "      <td>23.48</td>\n",
       "    </tr>\n",
       "    <tr>\n",
       "      <th>7</th>\n",
       "      <td>15.00</td>\n",
       "      <td>20.98</td>\n",
       "    </tr>\n",
       "    <tr>\n",
       "      <th>8</th>\n",
       "      <td>39.00</td>\n",
       "      <td>28.98</td>\n",
       "    </tr>\n",
       "    <tr>\n",
       "      <th>9</th>\n",
       "      <td>15.00</td>\n",
       "      <td>23.00</td>\n",
       "    </tr>\n",
       "  </tbody>\n",
       "</table>\n",
       "</div>"
      ],
      "text/plain": [
       "   Total_price          \n",
       "0     77183.60  77183.60\n",
       "1        17.40     17.40\n",
       "2        55.80     36.60\n",
       "3        37.50     36.90\n",
       "4        22.50     38.60\n",
       "5        15.00     25.00\n",
       "6        32.94     23.48\n",
       "7        15.00     20.98\n",
       "8        39.00     28.98\n",
       "9        15.00     23.00"
      ]
     },
     "execution_count": 172,
     "metadata": {},
     "output_type": "execute_result"
    }
   ],
   "source": [
    "df3=q('''select \n",
    "       [Total_price],\n",
    "      avg([Total_price]) OVER (partition by [customerId] ORDER BY [invoiceDate] ROWS BETWEEN 2 PRECEDING AND CURRENT ROW)\n",
    "      from retail_order_summery''')\n",
    "df3.head(10)"
   ]
  },
  {
   "cell_type": "code",
   "execution_count": null,
   "id": "933905ee-98f2-489b-a53c-4bab9b576a9f",
   "metadata": {},
   "outputs": [],
   "source": [
    "#use lag function that compare previous and present sales/simply how much we make it like we drop sales or up them"
   ]
  },
  {
   "cell_type": "code",
   "execution_count": 173,
   "id": "9789aa2e-d62d-4995-b4f2-0b8400d802e0",
   "metadata": {},
   "outputs": [
    {
     "data": {
      "text/html": [
       "<div>\n",
       "<style scoped>\n",
       "    .dataframe tbody tr th:only-of-type {\n",
       "        vertical-align: middle;\n",
       "    }\n",
       "\n",
       "    .dataframe tbody tr th {\n",
       "        vertical-align: top;\n",
       "    }\n",
       "\n",
       "    .dataframe thead th {\n",
       "        text-align: right;\n",
       "    }\n",
       "</style>\n",
       "<table border=\"1\" class=\"dataframe\">\n",
       "  <thead>\n",
       "    <tr style=\"text-align: right;\">\n",
       "      <th></th>\n",
       "      <th>Total_price</th>\n",
       "      <th>comparision_of_sales</th>\n",
       "    </tr>\n",
       "  </thead>\n",
       "  <tbody>\n",
       "    <tr>\n",
       "      <th>0</th>\n",
       "      <td>54.08</td>\n",
       "      <td>NaN</td>\n",
       "    </tr>\n",
       "    <tr>\n",
       "      <th>1</th>\n",
       "      <td>14.85</td>\n",
       "      <td>54.08</td>\n",
       "    </tr>\n",
       "    <tr>\n",
       "      <th>2</th>\n",
       "      <td>9.90</td>\n",
       "      <td>14.85</td>\n",
       "    </tr>\n",
       "    <tr>\n",
       "      <th>3</th>\n",
       "      <td>31.80</td>\n",
       "      <td>9.90</td>\n",
       "    </tr>\n",
       "    <tr>\n",
       "      <th>4</th>\n",
       "      <td>14.85</td>\n",
       "      <td>31.80</td>\n",
       "    </tr>\n",
       "    <tr>\n",
       "      <th>5</th>\n",
       "      <td>14.85</td>\n",
       "      <td>14.85</td>\n",
       "    </tr>\n",
       "    <tr>\n",
       "      <th>6</th>\n",
       "      <td>70.80</td>\n",
       "      <td>14.85</td>\n",
       "    </tr>\n",
       "    <tr>\n",
       "      <th>7</th>\n",
       "      <td>17.00</td>\n",
       "      <td>70.80</td>\n",
       "    </tr>\n",
       "    <tr>\n",
       "      <th>8</th>\n",
       "      <td>46.80</td>\n",
       "      <td>17.00</td>\n",
       "    </tr>\n",
       "    <tr>\n",
       "      <th>9</th>\n",
       "      <td>40.80</td>\n",
       "      <td>46.80</td>\n",
       "    </tr>\n",
       "  </tbody>\n",
       "</table>\n",
       "</div>"
      ],
      "text/plain": [
       "   Total_price  comparision_of_sales\n",
       "0        54.08                   NaN\n",
       "1        14.85                 54.08\n",
       "2         9.90                 14.85\n",
       "3        31.80                  9.90\n",
       "4        14.85                 31.80\n",
       "5        14.85                 14.85\n",
       "6        70.80                 14.85\n",
       "7        17.00                 70.80\n",
       "8        46.80                 17.00\n",
       "9        40.80                 46.80"
      ]
     },
     "execution_count": 173,
     "metadata": {},
     "output_type": "execute_result"
    }
   ],
   "source": [
    "df3=q('''select \n",
    "       [Total_price],\n",
    "       lag([Total_price],1) over(order by [invoiceDate]) as [comparision_of_sales]\n",
    "      from retail_order_summery''')\n",
    "df3.head(10)"
   ]
  },
  {
   "cell_type": "markdown",
   "id": "9ee2f544-2425-4ca4-9f0f-35ed03d2d697",
   "metadata": {},
   "source": [
    "#highest score by country"
   ]
  },
  {
   "cell_type": "code",
   "execution_count": 177,
   "id": "867b08b6-ae23-4750-8867-5800f5708359",
   "metadata": {},
   "outputs": [
    {
     "name": "stderr",
     "output_type": "stream",
     "text": [
      "C:\\Users\\micro\\AppData\\Local\\Temp\\ipykernel_15228\\2028972285.py:3: FutureWarning: \n",
      "\n",
      "Passing `palette` without assigning `hue` is deprecated and will be removed in v0.14.0. Assign the `x` variable to `hue` and set `legend=False` for the same effect.\n",
      "\n",
      "  ax = sns.barplot(x='country' , y = 'Total_price',palette = 'Set2',data = grp_data)\n"
     ]
    },
    {
     "data": {
      "image/png": "[encoded data removed]",
      "text/plain": [
       "<Figure size 1000x500 with 1 Axes>"
      ]
     },
     "metadata": {},
     "output_type": "display_data"
    }
   ],
   "source": [
    "grp_data = df1.groupby('country')['Total_price'].sum().nlargest(10).reset_index()\n",
    "plt.figure(figsize = (10,5))\n",
    "ax = sns.barplot(x='country' , y = 'Total_price',palette = 'Set2',data = grp_data)\n",
    "for i in ax.containers:\n",
    "    ax.bar_label(i , fmt='%.0f')\n",
    "plt.xticks(rotation=45)\n",
    "plt.show()"
   ]
  },
  {
   "cell_type": "code",
   "execution_count": 178,
   "id": "91c5155d-99d7-4c29-a28f-fe5320491ed9",
   "metadata": {},
   "outputs": [
    {
     "data": {
      "text/html": [
       "<div>\n",
       "<style scoped>\n",
       "    .dataframe tbody tr th:only-of-type {\n",
       "        vertical-align: middle;\n",
       "    }\n",
       "\n",
       "    .dataframe tbody tr th {\n",
       "        vertical-align: top;\n",
       "    }\n",
       "\n",
       "    .dataframe thead th {\n",
       "        text-align: right;\n",
       "    }\n",
       "</style>\n",
       "<table border=\"1\" class=\"dataframe\">\n",
       "  <thead>\n",
       "    <tr style=\"text-align: right;\">\n",
       "      <th></th>\n",
       "      <th>invoiceNo</th>\n",
       "      <th>stockCode</th>\n",
       "      <th>description</th>\n",
       "      <th>quantity</th>\n",
       "      <th>invoiceDate</th>\n",
       "      <th>unitPrice</th>\n",
       "      <th>Total_price</th>\n",
       "      <th>customerId</th>\n",
       "      <th>country</th>\n",
       "      <th>ranking</th>\n",
       "    </tr>\n",
       "  </thead>\n",
       "  <tbody>\n",
       "    <tr>\n",
       "      <th>0</th>\n",
       "      <td>C541433</td>\n",
       "      <td>23166</td>\n",
       "      <td>MEDIUM CERAMIC TOP STORAGE JAR</td>\n",
       "      <td>74215</td>\n",
       "      <td>2011-01-18 10:17:00</td>\n",
       "      <td>1.04</td>\n",
       "      <td>77183.6</td>\n",
       "      <td>12346.0</td>\n",
       "      <td>United Kingdom</td>\n",
       "      <td>1</td>\n",
       "    </tr>\n",
       "    <tr>\n",
       "      <th>1</th>\n",
       "      <td>573511</td>\n",
       "      <td>84558A</td>\n",
       "      <td>3D DOG PICTURE PLAYING CARDS</td>\n",
       "      <td>36</td>\n",
       "      <td>2011-10-31 12:25:00</td>\n",
       "      <td>2.95</td>\n",
       "      <td>106.2</td>\n",
       "      <td>12347.0</td>\n",
       "      <td>Iceland</td>\n",
       "      <td>1</td>\n",
       "    </tr>\n",
       "  </tbody>\n",
       "</table>\n",
       "</div>"
      ],
      "text/plain": [
       "  invoiceNo stockCode                     description  quantity  \\\n",
       "0   C541433     23166  MEDIUM CERAMIC TOP STORAGE JAR     74215   \n",
       "1    573511    84558A    3D DOG PICTURE PLAYING CARDS        36   \n",
       "\n",
       "          invoiceDate  unitPrice  Total_price  customerId         country  \\\n",
       "0 2011-01-18 10:17:00       1.04      77183.6     12346.0  United Kingdom   \n",
       "1 2011-10-31 12:25:00       2.95        106.2     12347.0         Iceland   \n",
       "\n",
       "   ranking  \n",
       "0        1  \n",
       "1        1  "
      ]
     },
     "execution_count": 178,
     "metadata": {},
     "output_type": "execute_result"
    }
   ],
   "source": [
    "df1.head(2)"
   ]
  },
  {
   "cell_type": "code",
   "execution_count": null,
   "id": "0c410957-32b4-4d40-ad87-1e8ecf51bbc6",
   "metadata": {},
   "outputs": [],
   "source": [
    "#relation betwwen quantity and total_sales"
   ]
  },
  {
   "cell_type": "code",
   "execution_count": 183,
   "id": "72927335-e211-4267-90f1-986ee6140383",
   "metadata": {},
   "outputs": [
    {
     "data": {
      "text/plain": [
       "np.float64(0.9131532656341558)"
      ]
     },
     "execution_count": 183,
     "metadata": {},
     "output_type": "execute_result"
    }
   ],
   "source": [
    "df1['quantity'].corr(df1['Total_price'])"
   ]
  },
  {
   "cell_type": "code",
   "execution_count": 184,
   "id": "e3d57736-6aaa-44fc-94f7-e942b9ff8bfa",
   "metadata": {},
   "outputs": [
    {
     "data": {
      "image/png": "[encoded data removed]",
      "text/plain": [
       "<Figure size 640x480 with 1 Axes>"
      ]
     },
     "metadata": {},
     "output_type": "display_data"
    }
   ],
   "source": [
    "sns.scatterplot(x='quantity', y='Total_price', data=df1)\n",
    "plt.title('Quantity vs Total Sales')\n",
    "plt.show()"
   ]
  },
  {
   "cell_type": "code",
   "execution_count": null,
   "id": "b44d7583-4cd6-41f7-a893-12259b3c954f",
   "metadata": {},
   "outputs": [],
   "source": []
  }
 ],
 "metadata": {
  "kernelspec": {
   "display_name": "Python 3 (ipykernel)",
   "language": "python",
   "name": "python3"
  },
  "language_info": {
   "codemirror_mode": {
    "name": "ipython",
    "version": 3
   },
   "file_extension": ".py",
   "mimetype": "text/x-python",
   "name": "python",
   "nbconvert_exporter": "python",
   "pygments_lexer": "ipython3",
   "version": "3.13.6"
  }
 },
 "nbformat": 4,
 "nbformat_minor": 5
}
